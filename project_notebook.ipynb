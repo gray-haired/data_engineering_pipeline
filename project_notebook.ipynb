{
 "cells": [
  {
   "cell_type": "code",
   "execution_count": 8,
   "id": "0a212cf1-6aae-4d49-833e-7ce549266a2c",
   "metadata": {},
   "outputs": [],
   "source": [
    "# Мини-инженерия данных: агрегация конвейера + витрина данных\n",
    "# Этот файл содержит python-код для создания конвейера обработки данных лидов CRM и формирования витрины данных."
   ]
  },
  {
   "cell_type": "code",
   "execution_count": 9,
   "id": "42fda5d8-dc63-4766-8be8-ed7ef36dabf1",
   "metadata": {},
   "outputs": [],
   "source": [
    "import pandas as pd\n",
    "from datetime import datetime\n",
    "import os"
   ]
  },
  {
   "cell_type": "code",
   "execution_count": 10,
   "id": "6e399d9b-5285-4e8e-a402-e74969d629f3",
   "metadata": {},
   "outputs": [
    {
     "name": "stdout",
     "output_type": "stream",
     "text": [
      "Всего необработанных лидов: 1000\n"
     ]
    }
   ],
   "source": [
    "# 1. Загрузка сырых данных (симуляция импорта из Google Sheets)\n",
    "raw_leads_df = pd.read_csv(\"crm_leads_raw.csv\", parse_dates=[\"submission_date\"])\n",
    "\n",
    "print(f\"Всего необработанных лидов: {len(raw_leads_df)}\")"
   ]
  },
  {
   "cell_type": "code",
   "execution_count": 11,
   "id": "afbfb4f0-92ef-4744-9669-170be5d53e8e",
   "metadata": {},
   "outputs": [],
   "source": [
    "# 2. Парсинг, очистка и нормализация данных\n",
    "# Создаём копию для очистки\n",
    "cleaned_leads_df = raw_leads_df.copy()\n",
    "\n",
    "# Стандартизируем названия источников\n",
    "cleaned_leads_df[\"source\"] = cleaned_leads_df[\"source\"].str.lower().str.replace(\" \", \"_\")\n",
    "\n",
    "# Проверяем формат email (упрощённая проверка)\n",
    "cleaned_leads_df[\"is_valid_email\"] = cleaned_leads_df[\"email\"].str.contains(r\"^[a-zA-Z0-9_.+-]+@[a-zA-Z0-9-]+\\.[a-zA-Z0-9-.]+$\")\n",
    "\n",
    "# Извлекаем год и месяц из даты\n",
    "cleaned_leads_df[\"submission_year\"] = cleaned_leads_df[\"submission_date\"].dt.year\n",
    "cleaned_leads_df[\"submission_month\"] = cleaned_leads_df[\"submission_date\"].dt.month"
   ]
  },
  {
   "cell_type": "code",
   "execution_count": 12,
   "id": "d334c8d4-34a7-4bd9-80a0-143a2f02be0b",
   "metadata": {},
   "outputs": [],
   "source": [
    "# 3. Создание Витрины Данных (crm_leads_cleaned)\n",
    "# Выбираем и переименовываем столбцы для витрины данных\n",
    "data_mart_df = cleaned_leads_df[[\n",
    "    \"lead_id\",\n",
    "    \"submission_date\",\n",
    "    \"submission_year\",\n",
    "    \"submission_month\",\n",
    "    \"source\",\n",
    "    \"status\",\n",
    "    \"value\",\n",
    "    \"is_valid_email\"\n",
    "]].copy()\n",
    "\n",
    "# Сохраняем витрину данных в CSV-файл \n",
    "data_mart_df.to_csv(\"crm_leads_cleaned.csv\", index=False)"
   ]
  },
  {
   "cell_type": "code",
   "execution_count": 13,
   "id": "2f165118-db9f-4fa6-9699-b89988a19bad",
   "metadata": {},
   "outputs": [
    {
     "name": "stdout",
     "output_type": "stream",
     "text": [
      "\n",
      "--- Запуск Ежедневной Задачи Конвейера (Симуляция) ---\n",
      "Ежедневная задача конвейера завершена. Витрина данных обновлена.\n",
      "Временная метка: 2025-07-28 00:38:58.617523\n"
     ]
    }
   ],
   "source": [
    "# 4. Логика Cron-задачи\n",
    "# Этот раздел симулирует логику, которая будет запускаться cron-задачей ежедневно.\n",
    "\n",
    "def daily_pipeline_job():\n",
    "    print(\"\\n--- Запуск Ежедневной Задачи Конвейера (Симуляция) ---\")\n",
    "    # 1. Загрузка новых сырых данных (в реальности через Google Sheets API)\n",
    "    # Для симуляции просто перезагружаем те же данные.\n",
    "    new_raw_data = pd.read_csv(\"crm_leads_raw.csv\", parse_dates=[\"submission_date\"])\n",
    "    \n",
    "    # 2. Очистка и нормализация новых данных\n",
    "    # (Применяем те же шаги очистки)\n",
    "    \n",
    "    # 3. Добавление к существующей витрине данных\n",
    "    # (В реальности - добавление в таблицу PostgreSQL)\n",
    "    \n",
    "    print(\"Ежедневная задача конвейера завершена. Витрина данных обновлена.\")\n",
    "    print(f\"Временная метка: {datetime.now()}\")\n",
    "\n",
    "# Запускаем симулированную задачу\n",
    "daily_pipeline_job()"
   ]
  },
  {
   "cell_type": "code",
   "execution_count": null,
   "id": "f67ca901-e05b-46cf-8295-4bec3abfe1d1",
   "metadata": {},
   "outputs": [],
   "source": []
  }
 ],
 "metadata": {
  "kernelspec": {
   "display_name": "Python 3 (ipykernel)",
   "language": "python",
   "name": "python3"
  },
  "language_info": {
   "codemirror_mode": {
    "name": "ipython",
    "version": 3
   },
   "file_extension": ".py",
   "mimetype": "text/x-python",
   "name": "python",
   "nbconvert_exporter": "python",
   "pygments_lexer": "ipython3",
   "version": "3.13.2"
  }
 },
 "nbformat": 4,
 "nbformat_minor": 5
}
